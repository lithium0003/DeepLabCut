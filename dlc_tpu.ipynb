{
  "nbformat": 4,
  "nbformat_minor": 0,
  "metadata": {
    "colab": {
      "name": "dlc-tpu.ipynb",
      "version": "0.3.2",
      "provenance": [],
      "private_outputs": true,
      "collapsed_sections": [],
      "include_colab_link": true
    },
    "kernelspec": {
      "name": "python3",
      "display_name": "Python 3"
    },
    "accelerator": "TPU"
  },
  "cells": [
    {
      "cell_type": "markdown",
      "metadata": {
        "id": "view-in-github",
        "colab_type": "text"
      },
      "source": [
        "<a href=\"https://colab.research.google.com/github/lithium0003/DeepLabCut/blob/master/dlc_tpu.ipynb\" target=\"_parent\"><img src=\"https://colab.research.google.com/assets/colab-badge.svg\" alt=\"Open In Colab\"/></a>"
      ]
    },
    {
      "cell_type": "markdown",
      "metadata": {
        "id": "cnBHvrXD-PjG",
        "colab_type": "text"
      },
      "source": [
        "# Before Colabratory process\n",
        "Colabratory system has no GUI, you need to run in local system label_frames step.\n",
        "\n",
        "```  python\n",
        "import deeplabcut\n",
        "deeplabcut.crate_new_project('colab','test','/home/user/video/',videotype='.mp4')\n",
        "config_path = '/home/user/deeplabcut/colab-test-2019-08-16/config.yaml'\n",
        "deeplabcut.extract_frames(config_path, mode='automatic', userfeedback=False)\n",
        "deeplabcut.label_frames(config_path)\n",
        "```\n",
        "\n",
        "After labeling, copy the project folder to Google Drive.\n"
      ]
    },
    {
      "cell_type": "markdown",
      "metadata": {
        "id": "Xltwlo_VyJZ8",
        "colab_type": "text"
      },
      "source": [
        "# Connect to Google Drive\n",
        "To access your data, connect to your Google Drive."
      ]
    },
    {
      "cell_type": "code",
      "metadata": {
        "id": "XWVJUmHvMbNJ",
        "colab_type": "code",
        "colab": {}
      },
      "source": [
        "from google.colab import drive\n",
        "drive.mount('/content/drive')"
      ],
      "execution_count": 0,
      "outputs": []
    },
    {
      "cell_type": "markdown",
      "metadata": {
        "id": "nzbRr_yYyfSx",
        "colab_type": "text"
      },
      "source": [
        "# Connect to Google Cloud Storage\n",
        "To access Storage bucket, allow access for tensorflow api.\n",
        "\n",
        "\n",
        "If you have a bucket named 'test_20190814' and access is allowed successfully,\n",
        "run this command and no errors are shown.\n",
        "```\n",
        "!gsutil ls gs://test_20190814\n",
        "```\n",
        "\n"
      ]
    },
    {
      "cell_type": "code",
      "metadata": {
        "id": "s9GKQAmeU8Ts",
        "colab_type": "code",
        "colab": {}
      },
      "source": [
        "from google.colab import auth\n",
        "auth.authenticate_user()\n",
        "!gsutil ls gs://test_20190814"
      ],
      "execution_count": 0,
      "outputs": []
    },
    {
      "cell_type": "markdown",
      "metadata": {
        "id": "3OX6HeKJzvH6",
        "colab_type": "text"
      },
      "source": [
        "# Install DeepLabCut for TPU\n",
        "Install DeepLabCut for TPU."
      ]
    },
    {
      "cell_type": "code",
      "metadata": {
        "id": "rQ7rAntUuMj0",
        "colab_type": "code",
        "colab": {}
      },
      "source": [
        "!pip install git+https://github.com/lithium0003/DeepLabCut.git"
      ],
      "execution_count": 0,
      "outputs": []
    },
    {
      "cell_type": "markdown",
      "metadata": {
        "id": "XT2hKO8Fz__p",
        "colab_type": "text"
      },
      "source": [
        "# Set environment values\n",
        "In colabratory, there are no GUI system so some functions are disabled.\n",
        "\n",
        "For TPU system, new environment value is needed."
      ]
    },
    {
      "cell_type": "code",
      "metadata": {
        "id": "zqoX0aCiNmtZ",
        "colab_type": "code",
        "colab": {}
      },
      "source": [
        "import os\n",
        "os.environ[\"DLClight\"]=\"True\"\n",
        "os.environ[\"Colab\"]=\"True\"\n",
        "os.environ[\"TPU\"]=\"True\""
      ],
      "execution_count": 0,
      "outputs": []
    },
    {
      "cell_type": "markdown",
      "metadata": {
        "id": "oojaHSL81Dlw",
        "colab_type": "text"
      },
      "source": [
        "# Import DeepLabCut\n",
        "Some messege are shown for warning no GUI system mode."
      ]
    },
    {
      "cell_type": "code",
      "metadata": {
        "id": "VcwY4QZrNrKe",
        "colab_type": "code",
        "colab": {}
      },
      "source": [
        "import deeplabcut"
      ],
      "execution_count": 0,
      "outputs": []
    },
    {
      "cell_type": "markdown",
      "metadata": {
        "id": "MxsjyXMQ1idp",
        "colab_type": "text"
      },
      "source": [
        "# Setup config_path\n",
        "If you stored deeplabcut project folder 'some_dir' in Google Drive,\n",
        "config_path is begined by '/content/drive/My Drive/'."
      ]
    },
    {
      "cell_type": "code",
      "metadata": {
        "id": "lgzHKp-KxNSf",
        "colab_type": "code",
        "colab": {}
      },
      "source": [
        "config_path='/content/drive/My Drive/some_dir/colab-test-2019-08-15/config.yaml'\n",
        "config_path"
      ],
      "execution_count": 0,
      "outputs": []
    },
    {
      "cell_type": "markdown",
      "metadata": {
        "id": "stnKRKHR2djV",
        "colab_type": "text"
      },
      "source": [
        "# Make trainig dataset\n",
        "TPU system is needed to put data in Google Cloud Storage.\n",
        "You need to set 'train_base_path' in config.yaml to somewhere gs://bucketname.\n",
        "And also, 'project_path' in config.yaml is need to fix, somewhere path started by '/content/drive/My Drive/'.\n",
        "\n",
        "After modification of config.yaml, run crate_training_dataset."
      ]
    },
    {
      "cell_type": "code",
      "metadata": {
        "id": "aKOxc6M2OGOI",
        "colab_type": "code",
        "colab": {}
      },
      "source": [
        "deeplabcut.create_training_dataset(config_path)"
      ],
      "execution_count": 0,
      "outputs": []
    },
    {
      "cell_type": "markdown",
      "metadata": {
        "id": "9l52B3L83wib",
        "colab_type": "text"
      },
      "source": [
        "# Train network\n",
        "In TPU system, 8 cores are available. So batch size is 8.\n",
        "\n",
        "In original default setup, max iterations are 1030000. \n",
        "If batch size is 8, a iteration processes 8 samples, so 1030000 iters are too much than original. So set batch size is 8 and max iterations are divided by 4 if TPU flag is ON.\n",
        "\n",
        "And as TPU sysytem limtation, processed image size is fixed(default 400x400).\n",
        "\n",
        "In this default setup, TPU system trains the network in 3 hours."
      ]
    },
    {
      "cell_type": "code",
      "metadata": {
        "id": "5cb1ORZ0OymQ",
        "colab_type": "code",
        "colab": {}
      },
      "source": [
        "deeplabcut.train_network(config_path)"
      ],
      "execution_count": 0,
      "outputs": []
    },
    {
      "cell_type": "markdown",
      "metadata": {
        "id": "KHLmt9FA5yP3",
        "colab_type": "text"
      },
      "source": [
        "# Tensorboard\n",
        "If you watch the training process, open the tensorborad.\n",
        "Open \"Google Cloud Shell\" in your Storage project and run this command(change the path for your own).\n",
        "\n",
        "``` bash\n",
        "$ tensorboard --port=8080 --logdir gs://test_20190814/colab-test-2019- 08-13/dlc-models/iteration-0/colabAug13-trainset95shuffle1/train\n",
        "```\n",
        "\n"
      ]
    },
    {
      "cell_type": "markdown",
      "metadata": {
        "id": "oq9LU3Yf6w61",
        "colab_type": "text"
      },
      "source": [
        "# Test network\n"
      ]
    },
    {
      "cell_type": "code",
      "metadata": {
        "id": "E19AEw93z6Mb",
        "colab_type": "code",
        "colab": {}
      },
      "source": [
        "deeplabcut.evaluate_network(config_path, plotting=True)"
      ],
      "execution_count": 0,
      "outputs": []
    },
    {
      "cell_type": "markdown",
      "metadata": {
        "id": "R9T7fd8F8ul1",
        "colab_type": "text"
      },
      "source": [
        "# Analyze videos\n",
        "In TPU system, all data for prediction are stored in Google Cloug Storage.\n",
        "So before next command, you need to run conversion command in local system.\n",
        "\n",
        "like this,\n",
        "``` bash\n",
        "$ deeplabcut.convert_analyze_videos(config_path, [‘/home/user/video/’], ‘gs://test_20190814/video/’, videotype=’mp4’)\n",
        "```\n",
        "\n",
        "After upload, run analyze_videos with videotype='tfrecord'.\n"
      ]
    },
    {
      "cell_type": "code",
      "metadata": {
        "id": "hu88opoHCX-X",
        "colab_type": "code",
        "colab": {}
      },
      "source": [
        "deeplabcut.analyze_videos(config_path, ['gs://test_20190814/video/'], videotype='tfrecord', save_as_csv=True, destfolder='/content/drive/My Drive/some_dir/result/resnet50-iter0/')"
      ],
      "execution_count": 0,
      "outputs": []
    }
  ]
}