{
  "nbformat": 4,
  "nbformat_minor": 0,
  "metadata": {
    "colab": {
      "name": "Human_Project_DEMO.ipynb",
      "version": "0.3.2",
      "provenance": [],
      "collapsed_sections": [],
      "toc_visible": true,
      "include_colab_link": true
    },
    "kernelspec": {
      "name": "python3",
      "display_name": "Python 3"
    },
    "accelerator": "GPU"
  },
  "cells": [
    {
      "cell_type": "markdown",
      "metadata": {
        "id": "view-in-github",
        "colab_type": "text"
      },
      "source": [
        "<a href=\"https://colab.research.google.com/github/AlexEMG/DeepLabCut/blob/master/examples/Human_Project_DEMO.ipynb\" target=\"_parent\"><img src=\"https://colab.research.google.com/assets/colab-badge.svg\" alt=\"Open In Colab\"/></a>"
      ]
    },
    {
      "cell_type": "markdown",
      "metadata": {
        "id": "RK255E7YoEIt",
        "colab_type": "text"
      },
      "source": [
        "# DeepLabCut Toolbox:\n",
        "\n",
        "https://github.com/AlexEMG/DeepLabCut\n",
        "\n",
        "You can use this notebook to analyze human videos with a network that is pre-trained on the MPIIpose dataset, as in the DeeperCut paper by Insafutdinov et al. https://arxiv.org/abs/1605.03170 [so if you use this network, please cite this paper too!]\n",
        "\n",
        "This notebook illustrates how to use the cloud to:\n",
        "- input  a video(s) to immediately analzye\n",
        "- create a labeled video and summary stats\n",
        "- in the meantime, it creates a new project folder for you, so you can access this project later!\n",
        "\n",
        "\n",
        "\n",
        "\n",
        "\n",
        "\n",
        "**FIRST: click runtime, > change runtime type > select GPU**\n",
        "\n",
        "**THEN: let's install DeepLabCut:**"
      ]
    },
    {
      "cell_type": "code",
      "metadata": {
        "id": "q23BzhA6CXxu",
        "colab_type": "code",
        "colab": {}
      },
      "source": [
        "#click the play icon (this will take a few minutes to install all the dependences!)\n",
        "!pip install deeplabcut"
      ],
      "execution_count": 0,
      "outputs": []
    },
    {
      "cell_type": "markdown",
      "metadata": {
        "id": "25wSj6TlVclR",
        "colab_type": "text"
      },
      "source": [
        "There may be some ERRORS, but they are ignorable and we can re-set the runtime to have our pacakge dependencies set \n",
        "\n",
        "**(i.e. Be sure to click \"RESTART RUNTIME\" above before moving on !)**"
      ]
    },
    {
      "cell_type": "markdown",
      "metadata": {
        "id": "syweXs88tyuO",
        "colab_type": "text"
      },
      "source": [
        "## Next, run the cell below to upload your human video file from your computer:\n",
        "### please note, for optimal performance your videos should contain frames that are around ~300 by 300 pixels (doesn't need to be square): if you have a larger video, first downsize it please! :)"
      ]
    },
    {
      "cell_type": "code",
      "metadata": {
        "id": "7eqEZYs_CaLy",
        "colab_type": "code",
        "colab": {}
      },
      "source": [
        "from google.colab import files\n",
        "uploaded = files.upload()\n",
        "for fn in uploaded.keys():\n",
        "  print('User uploaded file \"{video_path}\" with length {length} bytes'.format(\n",
        "      video_path=fn, length=len(uploaded[fn])))\n",
        "  video_path = fn"
      ],
      "execution_count": 0,
      "outputs": []
    },
    {
      "cell_type": "markdown",
      "metadata": {
        "id": "YsaqOTkZtf-w",
        "colab_type": "text"
      },
      "source": [
        "## Run the cell below after you have edited it to be your project/video type:"
      ]
    },
    {
      "cell_type": "code",
      "metadata": {
        "id": "UV0QXswGCFrI",
        "colab_type": "code",
        "colab": {}
      },
      "source": [
        "Task = 'human_dancing'\n",
        "YourName = 'teamDLC'\n",
        "videotype = 'mp4' #or avi, whatever you selected!"
      ],
      "execution_count": 0,
      "outputs": []
    },
    {
      "cell_type": "markdown",
      "metadata": {
        "id": "49WrF8CMs0Ah",
        "colab_type": "text"
      },
      "source": [
        "## Now let's set the backend & import the DeepLabCut package:"
      ]
    },
    {
      "cell_type": "code",
      "metadata": {
        "id": "sXufoX6INe6w",
        "colab_type": "code",
        "colab": {}
      },
      "source": [
        "#GUIs don't work on the cloud, so we supress them:\n",
        "import os\n",
        "os.environ[\"DLClight\"]=\"True\"\n",
        "#os.environ[\"Colab\"]=\"True\"\n",
        "\n",
        "import deeplabcut"
      ],
      "execution_count": 0,
      "outputs": []
    },
    {
      "cell_type": "markdown",
      "metadata": {
        "id": "KJm_Vbx-s5OY",
        "colab_type": "text"
      },
      "source": [
        "## Lastly, run th cell below to create a human project, analyze your video with a pretrained-on-humans network, plot trajectories, and create a labeled video:"
      ]
    },
    {
      "cell_type": "code",
      "metadata": {
        "id": "T9MGgAdIFKPY",
        "colab_type": "code",
        "colab": {}
      },
      "source": [
        "deeplabcut.create_pretrained_human_project(Task, YourName, video_path, videotype=videotype, analyzevideo=True, createlabeledvideo=True, copy_videos=True) #must leave copy_videos=True"
      ],
      "execution_count": 0,
      "outputs": []
    },
    {
      "cell_type": "markdown",
      "metadata": {
        "id": "WS-KxhBMvEBj",
        "colab_type": "text"
      },
      "source": [
        "Now, you can move this project from Colab (i.e. download it), and use it like a normal standard project. \n",
        "You can analyze more videos, extract outliers, refine then, and/or then add new key points + label new frames, and retrain if desired. We hope this gives you a good launching point for your work! Happy DeepLabCutting!"
      ]
    }
  ]
}